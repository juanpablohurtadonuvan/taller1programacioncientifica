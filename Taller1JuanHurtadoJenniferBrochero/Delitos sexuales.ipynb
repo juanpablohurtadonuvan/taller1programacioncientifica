{
 "cells": [
  {
   "cell_type": "code",
   "execution_count": 22,
   "id": "f652fa87-c85a-4025-957b-32a2359c599d",
   "metadata": {},
   "outputs": [],
   "source": [
    "import numpy as np\n",
    "import pandas as pd\n",
    "import re\n",
    "from datetime import datetime\n",
    "\n",
    "import matplotlib.pyplot as plt\n",
    "%matplotlib inline"
   ]
  },
  {
   "cell_type": "code",
   "execution_count": 2,
   "id": "624356e5-2cf9-41cc-abf9-b8cf43b08ba3",
   "metadata": {},
   "outputs": [],
   "source": [
    "dfsexual = pd.read_csv(\"C:/Users/Jenn/Downloads/Delitossexuales.csv\")"
   ]
  },
  {
   "cell_type": "code",
   "execution_count": 69,
   "id": "f096a640-ef84-482b-861f-b068dc9a20cf",
   "metadata": {
    "tags": []
   },
   "outputs": [
    {
     "data": {
      "text/plain": [
       "['CUNDINAMARCA', 'ANTIOQUIA', 'VALLE']"
      ]
     },
     "execution_count": 69,
     "metadata": {},
     "output_type": "execute_result"
    }
   ],
   "source": [
    "#Se tomo la frecuencia de los departamentos donde mas ocurrían los hechos\n",
    "abs_frecuency = dfsexual[\"DEPARTAMENTO\"].value_counts().index.tolist()[:3]\n",
    "abs_frecuency"
   ]
  },
  {
   "cell_type": "code",
   "execution_count": 44,
   "id": "c53536f1-9827-461c-ac2b-f9dcaeac4984",
   "metadata": {},
   "outputs": [
    {
     "data": {
      "text/plain": [
       "['SIN EMPLEO DE ARMAS']"
      ]
     },
     "execution_count": 44,
     "metadata": {},
     "output_type": "execute_result"
    }
   ],
   "source": [
    "#MEDIA DEL TIPO DE ARMA ULTIZADO PARA COMETER EL CRIMEN\n",
    "armamedio = dfsexual[\"ARMAS MEDIOS\"].value_counts().index.tolist()[:1]\n",
    "armamedio"
   ]
  },
  {
   "cell_type": "code",
   "execution_count": 45,
   "id": "dd8a8cc9-0e17-4b32-a2d9-f58d434a1a9d",
   "metadata": {},
   "outputs": [
    {
     "data": {
      "text/html": [
       "<div>\n",
       "<style scoped>\n",
       "    .dataframe tbody tr th:only-of-type {\n",
       "        vertical-align: middle;\n",
       "    }\n",
       "\n",
       "    .dataframe tbody tr th {\n",
       "        vertical-align: top;\n",
       "    }\n",
       "\n",
       "    .dataframe thead th {\n",
       "        text-align: right;\n",
       "    }\n",
       "</style>\n",
       "<table border=\"1\" class=\"dataframe\">\n",
       "  <thead>\n",
       "    <tr style=\"text-align: right;\">\n",
       "      <th></th>\n",
       "      <th>GENERO</th>\n",
       "    </tr>\n",
       "  </thead>\n",
       "  <tbody>\n",
       "    <tr>\n",
       "      <th>FEMENINO</th>\n",
       "      <td>215853</td>\n",
       "    </tr>\n",
       "    <tr>\n",
       "      <th>MASCULINO</th>\n",
       "      <td>35502</td>\n",
       "    </tr>\n",
       "    <tr>\n",
       "      <th>NO REPORTA</th>\n",
       "      <td>673</td>\n",
       "    </tr>\n",
       "    <tr>\n",
       "      <th>-</th>\n",
       "      <td>2</td>\n",
       "    </tr>\n",
       "  </tbody>\n",
       "</table>\n",
       "</div>"
      ],
      "text/plain": [
       "            GENERO\n",
       "FEMENINO    215853\n",
       "MASCULINO    35502\n",
       "NO REPORTA     673\n",
       "-                2"
      ]
     },
     "execution_count": 45,
     "metadata": {},
     "output_type": "execute_result"
    }
   ],
   "source": [
    "#Se muestra la cantidad víctimas separadas por genero\n",
    "genero = dfsexual[\"GENERO\"].value_counts().to_frame()\n",
    "genero"
   ]
  },
  {
   "cell_type": "code",
   "execution_count": 43,
   "id": "02eef79c-b055-4423-acd5-6a2c6ad681ae",
   "metadata": {},
   "outputs": [
    {
     "data": {
      "text/plain": [
       "['ARTÍCULO 209. ACTOS SEXUALES CON MENOR DE 14 AÑOS']"
      ]
     },
     "execution_count": 43,
     "metadata": {},
     "output_type": "execute_result"
    }
   ],
   "source": [
    "#El mayor reporte del tipo de delito que se cometia\n",
    "delitocomun = dfsexual[\"delito\"].value_counts().index.tolist()[:1]\n",
    "delitocomun\n"
   ]
  },
  {
   "cell_type": "code",
   "execution_count": 47,
   "id": "b645a2a4-f3fb-43d8-9685-80d910023f98",
   "metadata": {},
   "outputs": [
    {
     "data": {
      "text/html": [
       "<div>\n",
       "<style scoped>\n",
       "    .dataframe tbody tr th:only-of-type {\n",
       "        vertical-align: middle;\n",
       "    }\n",
       "\n",
       "    .dataframe tbody tr th {\n",
       "        vertical-align: top;\n",
       "    }\n",
       "\n",
       "    .dataframe thead th {\n",
       "        text-align: right;\n",
       "    }\n",
       "</style>\n",
       "<table border=\"1\" class=\"dataframe\">\n",
       "  <thead>\n",
       "    <tr style=\"text-align: right;\">\n",
       "      <th></th>\n",
       "      <th>GRUPO ETARIO</th>\n",
       "    </tr>\n",
       "  </thead>\n",
       "  <tbody>\n",
       "    <tr>\n",
       "      <th>MENORES</th>\n",
       "      <td>127399</td>\n",
       "    </tr>\n",
       "    <tr>\n",
       "      <th>ADULTOS</th>\n",
       "      <td>77508</td>\n",
       "    </tr>\n",
       "    <tr>\n",
       "      <th>ADOLECENTES</th>\n",
       "      <td>38779</td>\n",
       "    </tr>\n",
       "    <tr>\n",
       "      <th>ADOLESCENTES</th>\n",
       "      <td>8069</td>\n",
       "    </tr>\n",
       "    <tr>\n",
       "      <th>NO REPORTA</th>\n",
       "      <td>42</td>\n",
       "    </tr>\n",
       "  </tbody>\n",
       "</table>\n",
       "</div>"
      ],
      "text/plain": [
       "              GRUPO ETARIO\n",
       "MENORES             127399\n",
       "ADULTOS              77508\n",
       "ADOLECENTES          38779\n",
       "ADOLESCENTES          8069\n",
       "NO REPORTA              42"
      ]
     },
     "execution_count": 47,
     "metadata": {},
     "output_type": "execute_result"
    }
   ],
   "source": [
    "# Cantidad de afectados separados por grupo etario\n",
    "etario = dfsexual[\"GRUPO ETARIO\"].value_counts().to_frame()\n",
    "etario"
   ]
  }
 ],
 "metadata": {
  "kernelspec": {
   "display_name": "Python 3 (ipykernel)",
   "language": "python",
   "name": "python3"
  },
  "language_info": {
   "codemirror_mode": {
    "name": "ipython",
    "version": 3
   },
   "file_extension": ".py",
   "mimetype": "text/x-python",
   "name": "python",
   "nbconvert_exporter": "python",
   "pygments_lexer": "ipython3",
   "version": "3.9.7"
  }
 },
 "nbformat": 4,
 "nbformat_minor": 5
}
