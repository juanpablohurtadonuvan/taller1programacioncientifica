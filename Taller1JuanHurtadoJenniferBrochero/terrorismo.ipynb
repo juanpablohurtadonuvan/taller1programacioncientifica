{
 "cells": [
  {
   "cell_type": "markdown",
   "metadata": {},
   "source": [
    "# Tutorial de EDA\n",
    "Dataset: FIFA"
   ]
  },
  {
   "cell_type": "code",
   "execution_count": 4,
   "metadata": {},
   "outputs": [],
   "source": [
    "# Importando todas las librerías requeridas para el análisis\n",
    "\n",
    "import numpy as np\n",
    "import pandas as pd\n",
    "\n",
    "import matplotlib.pyplot as plt\n",
    "%matplotlib inline"
   ]
  },
  {
   "cell_type": "code",
   "execution_count": 5,
   "metadata": {
    "tags": []
   },
   "outputs": [],
   "source": [
    "# Cargando el archivo commo dataframe\n",
    "df_terro = pd.read_csv(\"Reporte_Delito_Terrorismo_Polic_a_Nacional.csv\")"
   ]
  },
  {
   "cell_type": "code",
   "execution_count": 6,
   "metadata": {},
   "outputs": [
    {
     "data": {
      "text/plain": [
       "(3823, 6)"
      ]
     },
     "execution_count": 6,
     "metadata": {},
     "output_type": "execute_result"
    }
   ],
   "source": [
    "# Mostrando las dimensiones del dataframe\n",
    "df_terro.shape"
   ]
  },
  {
   "cell_type": "code",
   "execution_count": 7,
   "metadata": {},
   "outputs": [
    {
     "data": {
      "text/plain": [
       "Departamento    object\n",
       "Municipio       object\n",
       "CODIGO DANE      int64\n",
       "ARMAS MEDIOS    object\n",
       "FECHA HECHO     object\n",
       "CANTIDAD         int64\n",
       "dtype: object"
      ]
     },
     "execution_count": 7,
     "metadata": {},
     "output_type": "execute_result"
    }
   ],
   "source": [
    "# Verificando los tipos de datos de las columnas\n",
    "df_terro.dtypes"
   ]
  },
  {
   "cell_type": "code",
   "execution_count": 8,
   "metadata": {},
   "outputs": [
    {
     "data": {
      "text/html": [
       "<div>\n",
       "<style scoped>\n",
       "    .dataframe tbody tr th:only-of-type {\n",
       "        vertical-align: middle;\n",
       "    }\n",
       "\n",
       "    .dataframe tbody tr th {\n",
       "        vertical-align: top;\n",
       "    }\n",
       "\n",
       "    .dataframe thead th {\n",
       "        text-align: right;\n",
       "    }\n",
       "</style>\n",
       "<table border=\"1\" class=\"dataframe\">\n",
       "  <thead>\n",
       "    <tr style=\"text-align: right;\">\n",
       "      <th></th>\n",
       "      <th>Departamento</th>\n",
       "      <th>Municipio</th>\n",
       "      <th>CODIGO DANE</th>\n",
       "      <th>ARMAS MEDIOS</th>\n",
       "      <th>FECHA HECHO</th>\n",
       "      <th>CANTIDAD</th>\n",
       "    </tr>\n",
       "  </thead>\n",
       "  <tbody>\n",
       "    <tr>\n",
       "      <th>0</th>\n",
       "      <td>PUTUMAYO</td>\n",
       "      <td>MOCOA (CT)</td>\n",
       "      <td>86001000</td>\n",
       "      <td>ARTEFACTO EXPLOSIVO/CARGA DINAMITA</td>\n",
       "      <td>05/01/2010</td>\n",
       "      <td>1</td>\n",
       "    </tr>\n",
       "    <tr>\n",
       "      <th>1</th>\n",
       "      <td>ARAUCA</td>\n",
       "      <td>TAME</td>\n",
       "      <td>81794000</td>\n",
       "      <td>ARTEFACTO INCENDIARIO</td>\n",
       "      <td>06/01/2010</td>\n",
       "      <td>1</td>\n",
       "    </tr>\n",
       "    <tr>\n",
       "      <th>2</th>\n",
       "      <td>META</td>\n",
       "      <td>VILLAVICENCIO (CT)</td>\n",
       "      <td>50001000</td>\n",
       "      <td>GRANADA DE MANO</td>\n",
       "      <td>06/01/2010</td>\n",
       "      <td>1</td>\n",
       "    </tr>\n",
       "    <tr>\n",
       "      <th>3</th>\n",
       "      <td>ARAUCA</td>\n",
       "      <td>FORTUL</td>\n",
       "      <td>81300000</td>\n",
       "      <td>CILINDRO BOMBA</td>\n",
       "      <td>07/01/2010</td>\n",
       "      <td>1</td>\n",
       "    </tr>\n",
       "    <tr>\n",
       "      <th>4</th>\n",
       "      <td>META</td>\n",
       "      <td>URIBE</td>\n",
       "      <td>50370000</td>\n",
       "      <td>MINA ANTIPERSONA</td>\n",
       "      <td>11/01/2010</td>\n",
       "      <td>1</td>\n",
       "    </tr>\n",
       "    <tr>\n",
       "      <th>5</th>\n",
       "      <td>PUTUMAYO</td>\n",
       "      <td>MOCOA (CT)</td>\n",
       "      <td>86001000</td>\n",
       "      <td>COMBUSTIBLE</td>\n",
       "      <td>13/01/2010</td>\n",
       "      <td>1</td>\n",
       "    </tr>\n",
       "    <tr>\n",
       "      <th>6</th>\n",
       "      <td>META</td>\n",
       "      <td>PUERTO RICO</td>\n",
       "      <td>50590000</td>\n",
       "      <td>MINA ANTIPERSONA</td>\n",
       "      <td>14/01/2010</td>\n",
       "      <td>1</td>\n",
       "    </tr>\n",
       "    <tr>\n",
       "      <th>7</th>\n",
       "      <td>VALLE</td>\n",
       "      <td>BUENAVENTURA</td>\n",
       "      <td>76109000</td>\n",
       "      <td>OLLA BOMBA</td>\n",
       "      <td>14/01/2010</td>\n",
       "      <td>1</td>\n",
       "    </tr>\n",
       "    <tr>\n",
       "      <th>8</th>\n",
       "      <td>ARAUCA</td>\n",
       "      <td>ARAUQUITA</td>\n",
       "      <td>81065000</td>\n",
       "      <td>ARTEFACTO EXPLOSIVO/CARGA DINAMITA</td>\n",
       "      <td>15/01/2010</td>\n",
       "      <td>1</td>\n",
       "    </tr>\n",
       "    <tr>\n",
       "      <th>9</th>\n",
       "      <td>META</td>\n",
       "      <td>URIBE</td>\n",
       "      <td>50370000</td>\n",
       "      <td>GRANADA DE MANO</td>\n",
       "      <td>15/01/2010</td>\n",
       "      <td>1</td>\n",
       "    </tr>\n",
       "  </tbody>\n",
       "</table>\n",
       "</div>"
      ],
      "text/plain": [
       "  Departamento           Municipio  CODIGO DANE  \\\n",
       "0     PUTUMAYO          MOCOA (CT)     86001000   \n",
       "1       ARAUCA                TAME     81794000   \n",
       "2         META  VILLAVICENCIO (CT)     50001000   \n",
       "3       ARAUCA              FORTUL     81300000   \n",
       "4         META               URIBE     50370000   \n",
       "5     PUTUMAYO          MOCOA (CT)     86001000   \n",
       "6         META         PUERTO RICO     50590000   \n",
       "7        VALLE        BUENAVENTURA     76109000   \n",
       "8       ARAUCA           ARAUQUITA     81065000   \n",
       "9         META               URIBE     50370000   \n",
       "\n",
       "                         ARMAS MEDIOS FECHA HECHO  CANTIDAD  \n",
       "0  ARTEFACTO EXPLOSIVO/CARGA DINAMITA  05/01/2010         1  \n",
       "1               ARTEFACTO INCENDIARIO  06/01/2010         1  \n",
       "2                     GRANADA DE MANO  06/01/2010         1  \n",
       "3                      CILINDRO BOMBA  07/01/2010         1  \n",
       "4                    MINA ANTIPERSONA  11/01/2010         1  \n",
       "5                         COMBUSTIBLE  13/01/2010         1  \n",
       "6                    MINA ANTIPERSONA  14/01/2010         1  \n",
       "7                          OLLA BOMBA  14/01/2010         1  \n",
       "8  ARTEFACTO EXPLOSIVO/CARGA DINAMITA  15/01/2010         1  \n",
       "9                     GRANADA DE MANO  15/01/2010         1  "
      ]
     },
     "execution_count": 8,
     "metadata": {},
     "output_type": "execute_result"
    }
   ],
   "source": [
    "# Imprimiendo los primeros 10 registros\n",
    "df_terro.head(10)"
   ]
  },
  {
   "cell_type": "code",
   "execution_count": 9,
   "metadata": {},
   "outputs": [
    {
     "data": {
      "text/plain": [
       "['ANTIOQUIA', 'NORTE DE SANTANDER', 'ARAUCA']"
      ]
     },
     "execution_count": 9,
     "metadata": {},
     "output_type": "execute_result"
    }
   ],
   "source": [
    "#Imprimiendo cuales fueron los departamentos mas afectados\n",
    "df_terro[\"Departamento\"].value_counts().index.tolist()[:3]"
   ]
  },
  {
   "cell_type": "code",
   "execution_count": 10,
   "metadata": {},
   "outputs": [
    {
     "data": {
      "text/plain": [
       "'ARTEFACTO EXPLOSIVO/CARGA DINAMITA'"
      ]
     },
     "execution_count": 10,
     "metadata": {},
     "output_type": "execute_result"
    }
   ],
   "source": [
    "#Imprimiendo las armas mas comunes para cometer el delito\n",
    "df_terro['ARMAS MEDIOS'].value_counts().idxmax()"
   ]
  },
  {
   "cell_type": "code",
   "execution_count": 17,
   "metadata": {},
   "outputs": [
    {
     "data": {
      "text/plain": [
       "10/08/2012    14\n",
       "14/02/2020    10\n",
       "31/03/2016    10\n",
       "15/02/2020     9\n",
       "16/07/2015     8\n",
       "              ..\n",
       "23/02/2015     1\n",
       "20/02/2015     1\n",
       "14/08/2011     1\n",
       "16/02/2015     1\n",
       "05/01/2010     1\n",
       "Name: FECHA HECHO, Length: 2118, dtype: int64"
      ]
     },
     "execution_count": 17,
     "metadata": {},
     "output_type": "execute_result"
    }
   ],
   "source": [
    "#Imprimiendo el mes mas comun para delitos\n",
    "df_terro['FECHA HECHO'].value_counts()"
   ]
  },
  {
   "cell_type": "code",
   "execution_count": null,
   "metadata": {},
   "outputs": [],
   "source": []
  }
 ],
 "metadata": {
  "kernelspec": {
   "display_name": "Python 3 (ipykernel)",
   "language": "python",
   "name": "python3"
  },
  "language_info": {
   "codemirror_mode": {
    "name": "ipython",
    "version": 3
   },
   "file_extension": ".py",
   "mimetype": "text/x-python",
   "name": "python",
   "nbconvert_exporter": "python",
   "pygments_lexer": "ipython3",
   "version": "3.9.7"
  }
 },
 "nbformat": 4,
 "nbformat_minor": 4
}
